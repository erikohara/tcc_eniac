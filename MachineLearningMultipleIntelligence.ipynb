{
  "nbformat": 4,
  "nbformat_minor": 0,
  "metadata": {
    "colab": {
      "name": "MachineLearningMultipleIntelligence.ipynb",
      "provenance": [],
      "collapsed_sections": [],
      "authorship_tag": "ABX9TyM+XZMrW1X/poCw360+HRQU",
      "include_colab_link": true
    },
    "kernelspec": {
      "name": "python3",
      "display_name": "Python 3"
    },
    "language_info": {
      "name": "python"
    }
  },
  "cells": [
    {
      "cell_type": "markdown",
      "metadata": {
        "id": "view-in-github",
        "colab_type": "text"
      },
      "source": [
        "<a href=\"https://colab.research.google.com/github/erikohara/tcc_eniac/blob/main/MachineLearningMultipleIntelligence.ipynb\" target=\"_parent\"><img src=\"https://colab.research.google.com/assets/colab-badge.svg\" alt=\"Open In Colab\"/></a>"
      ]
    },
    {
      "cell_type": "markdown",
      "metadata": {
        "id": "Aw5xKXbARILn"
      },
      "source": [
        "# Analisando perfis dos indivíduos do estudo"
      ]
    },
    {
      "cell_type": "code",
      "metadata": {
        "id": "X4T5ipw5RjGl"
      },
      "source": [
        "import pandas as pd"
      ],
      "execution_count": 4,
      "outputs": []
    },
    {
      "cell_type": "code",
      "metadata": {
        "id": "Bd1hdyMMQ4QK"
      },
      "source": [
        "url_participants = \"https://raw.githubusercontent.com/erikohara/tcc_eniac/main/db_a/participants.tsv\"\n",
        "df_participants = pd.read_csv(url_participants, delimiter=\"\\t\")"
      ],
      "execution_count": 39,
      "outputs": []
    },
    {
      "cell_type": "markdown",
      "metadata": {
        "id": "O7UJ9UaiXHDC"
      },
      "source": [
        "### Retirando colunas que não serão utilizadas e dados de diferentes momentos medidos"
      ]
    },
    {
      "cell_type": "code",
      "metadata": {
        "id": "ggf62b9ORmxf"
      },
      "source": [
        "df_participants.drop(columns=\"task\",inplace=True)\n",
        "df_participants.drop(columns=\"condition\",inplace=True)\n",
        "df_participants.drop(columns=\"comprehension\",inplace=True)\n",
        "df_participants.age = df_participants.age.str.split(\",\")\n",
        "df_participants.age = df_participants.age.str[0]\n",
        "df_participants.sex = df_participants.sex.str.split(\",\")\n",
        "df_participants.sex = df_participants.sex.str[0]"
      ],
      "execution_count": 40,
      "outputs": []
    },
    {
      "cell_type": "code",
      "metadata": {
        "colab": {
          "base_uri": "https://localhost:8080/",
          "height": 419
        },
        "id": "A1Wct65RT6Bd",
        "outputId": "6c628818-2494-4375-e925-edf47c2172a3"
      },
      "source": [
        "df_participants"
      ],
      "execution_count": 41,
      "outputs": [
        {
          "output_type": "execute_result",
          "data": {
            "text/html": [
              "<div>\n",
              "<style scoped>\n",
              "    .dataframe tbody tr th:only-of-type {\n",
              "        vertical-align: middle;\n",
              "    }\n",
              "\n",
              "    .dataframe tbody tr th {\n",
              "        vertical-align: top;\n",
              "    }\n",
              "\n",
              "    .dataframe thead th {\n",
              "        text-align: right;\n",
              "    }\n",
              "</style>\n",
              "<table border=\"1\" class=\"dataframe\">\n",
              "  <thead>\n",
              "    <tr style=\"text-align: right;\">\n",
              "      <th></th>\n",
              "      <th>participant_id</th>\n",
              "      <th>age</th>\n",
              "      <th>sex</th>\n",
              "    </tr>\n",
              "  </thead>\n",
              "  <tbody>\n",
              "    <tr>\n",
              "      <th>0</th>\n",
              "      <td>sub-001</td>\n",
              "      <td>22</td>\n",
              "      <td>F</td>\n",
              "    </tr>\n",
              "    <tr>\n",
              "      <th>1</th>\n",
              "      <td>sub-002</td>\n",
              "      <td>20</td>\n",
              "      <td>M</td>\n",
              "    </tr>\n",
              "    <tr>\n",
              "      <th>2</th>\n",
              "      <td>sub-003</td>\n",
              "      <td>-1</td>\n",
              "      <td>F</td>\n",
              "    </tr>\n",
              "    <tr>\n",
              "      <th>3</th>\n",
              "      <td>sub-004</td>\n",
              "      <td>24</td>\n",
              "      <td>M</td>\n",
              "    </tr>\n",
              "    <tr>\n",
              "      <th>4</th>\n",
              "      <td>sub-005</td>\n",
              "      <td>-1</td>\n",
              "      <td>M</td>\n",
              "    </tr>\n",
              "    <tr>\n",
              "      <th>...</th>\n",
              "      <td>...</td>\n",
              "      <td>...</td>\n",
              "      <td>...</td>\n",
              "    </tr>\n",
              "    <tr>\n",
              "      <th>340</th>\n",
              "      <td>sub-341</td>\n",
              "      <td>21</td>\n",
              "      <td>M</td>\n",
              "    </tr>\n",
              "    <tr>\n",
              "      <th>341</th>\n",
              "      <td>sub-342</td>\n",
              "      <td>23</td>\n",
              "      <td>M</td>\n",
              "    </tr>\n",
              "    <tr>\n",
              "      <th>342</th>\n",
              "      <td>sub-343</td>\n",
              "      <td>18</td>\n",
              "      <td>F</td>\n",
              "    </tr>\n",
              "    <tr>\n",
              "      <th>343</th>\n",
              "      <td>sub-344</td>\n",
              "      <td>18</td>\n",
              "      <td>F</td>\n",
              "    </tr>\n",
              "    <tr>\n",
              "      <th>344</th>\n",
              "      <td>sub-345</td>\n",
              "      <td>18</td>\n",
              "      <td>F</td>\n",
              "    </tr>\n",
              "  </tbody>\n",
              "</table>\n",
              "<p>345 rows × 3 columns</p>\n",
              "</div>"
            ],
            "text/plain": [
              "    participant_id age sex\n",
              "0          sub-001  22   F\n",
              "1          sub-002  20   M\n",
              "2          sub-003  -1   F\n",
              "3          sub-004  24   M\n",
              "4          sub-005  -1   M\n",
              "..             ...  ..  ..\n",
              "340        sub-341  21   M\n",
              "341        sub-342  23   M\n",
              "342        sub-343  18   F\n",
              "343        sub-344  18   F\n",
              "344        sub-345  18   F\n",
              "\n",
              "[345 rows x 3 columns]"
            ]
          },
          "metadata": {},
          "execution_count": 41
        }
      ]
    },
    {
      "cell_type": "markdown",
      "metadata": {
        "id": "RejQrC_eFXfR"
      },
      "source": [
        "### Gráficos da Idade e do Sexo dos indivíduos do estudo"
      ]
    },
    {
      "cell_type": "code",
      "metadata": {
        "id": "tOTUIW8KVmcG"
      },
      "source": [
        "import matplotlib.pyplot as plt"
      ],
      "execution_count": 32,
      "outputs": []
    },
    {
      "cell_type": "code",
      "metadata": {
        "colab": {
          "base_uri": "https://localhost:8080/",
          "height": 336
        },
        "id": "OP0fx5G6W3a4",
        "outputId": "d0adeb9d-c945-4e44-ab90-5e09824e4dae"
      },
      "source": [
        "fig, (ax1, ax2) = plt.subplots(1, 2,figsize=(15,5))\n",
        "df_age = df_participants.groupby(['age']).size()\n",
        "df_age.plot(kind='bar', ax=ax1)\n",
        "ax1.set_xlabel(\"Idade\")\n",
        "ax1.set_ylabel(\"Quantidade de pessoas\")\n",
        "for index, value in enumerate(df_age):\n",
        "  ax1.text(index-0.4, value +0.5, str(value))\n",
        "sums = df_participants.groupby(['sex']).size()\n",
        "ax2.axis('equal');\n",
        "ax2.pie(sums, labels=['Mulher','Homem'],autopct='%1.1f%%',shadow=True, startangle=90);\n",
        "plt.show()"
      ],
      "execution_count": 82,
      "outputs": [
        {
          "output_type": "display_data",
          "data": {
            "image/png": "[encoded data removed]",
            "text/plain": [
              "<Figure size 1080x360 with 2 Axes>"
            ]
          },
          "metadata": {
            "needs_background": "light"
          }
        }
      ]
    },
    {
      "cell_type": "code",
      "metadata": {
        "id": "V0pAfqbrBlvp"
      },
      "source": [
        ""
      ],
      "execution_count": null,
      "outputs": []
    }
  ]
}